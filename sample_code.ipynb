{
 "cells": [
  {
   "cell_type": "code",
   "execution_count": null,
   "metadata": {},
   "outputs": [],
   "source": [
    "# Add styling\n",
    "def df_styled(df):\n",
    "    \n",
    "    def color_negative_red(val):\n",
    "        color = 'red' if val < 0 else ''\n",
    "        return 'color: %s' % color\n",
    "    \n",
    "    def highlight_max(s):\n",
    "        is_max = s == s.max()\n",
    "        return ['background-color: yellow' if v else '' for v in is_max]\n",
    "    \n",
    "    return df.style.applymap(\n",
    "        color_negative_red, \n",
    "        subset = [PROFIT_LOSS, NET_CHANGE, DAY_CHANGE]\n",
    "    ).apply(\n",
    "        highlight_max,\n",
    "        subset = [INVESTMENT]\n",
    "    ).format(\n",
    "        \"{:,.1f}\", \n",
    "        subset = [AVERAGE_COST, LTP, CURRENT_VALUE, PROFIT_LOSS, NET_CHANGE, DAY_CHANGE, INVESTMENT]\n",
    "    ).highlight_null()\n",
    "     \n",
    "\n",
    "#df_styled(df)"
   ]
  }
 ],
 "metadata": {
  "kernelspec": {
   "display_name": "Python 3",
   "language": "python",
   "name": "python3"
  },
  "language_info": {
   "codemirror_mode": {
    "name": "ipython",
    "version": 3
   },
   "file_extension": ".py",
   "mimetype": "text/x-python",
   "name": "python",
   "nbconvert_exporter": "python",
   "pygments_lexer": "ipython3",
   "version": "3.5.2"
  }
 },
 "nbformat": 4,
 "nbformat_minor": 2
}
